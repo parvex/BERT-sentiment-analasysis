{
 "cells": [
  {
   "cell_type": "markdown",
   "source": [
    "#Analiza sentymenty z wykorzystaniem BERT i zbioru Amazon Reviews\n",
    "Dane karty graficznej:"
   ],
   "metadata": {
    "collapsed": false
   }
  },
  {
   "cell_type": "code",
   "execution_count": 31,
   "metadata": {
    "collapsed": true
   },
   "outputs": [],
   "source": [
    "##!nvidia-smi"
   ]
  },
  {
   "cell_type": "markdown",
   "source": [
    "Zainstalowane biblioteki:"
   ],
   "metadata": {
    "collapsed": false
   }
  },
  {
   "cell_type": "code",
   "execution_count": 32,
   "outputs": [
    {
     "name": "stdout",
     "output_type": "stream",
     "text": [
      "Python implementation: CPython\n",
      "Python version       : 3.8.8\n",
      "IPython version      : 7.21.0\n",
      "\n",
      "numpy       : 1.19.2\n",
      "pandas      : 1.2.4\n",
      "torch       : 1.8.1\n",
      "transformers: 4.5.1\n",
      "\n"
     ]
    }
   ],
   "source": [
    "%reload_ext watermark\n",
    "%watermark -v -p numpy,pandas,torch,transformers"
   ],
   "metadata": {
    "collapsed": false,
    "pycharm": {
     "name": "#%%\n"
    }
   }
  },
  {
   "cell_type": "markdown",
   "source": [
    "Pobieranie zbioru danych i rozpakowywanie"
   ],
   "metadata": {
    "collapsed": false
   }
  },
  {
   "cell_type": "code",
   "execution_count": 42,
   "outputs": [
    {
     "name": "stdout",
     "output_type": "stream",
     "text": [
      "\n",
      "Saved under ./data/reviews.json.gz\n"
     ]
    }
   ],
   "source": [
    "!python -m wget http://snap.stanford.edu/data/amazon/productGraph/categoryFiles/reviews_Sports_and_Outdoors_5.json.gz -o ./data/reviews.json.gz"
   ],
   "metadata": {
    "collapsed": false,
    "pycharm": {
     "name": "#%%\n"
    }
   }
  },
  {
   "cell_type": "markdown",
   "source": [
    "Importowane biblioteki:"
   ],
   "metadata": {
    "collapsed": false
   }
  },
  {
   "cell_type": "code",
   "execution_count": 34,
   "outputs": [],
   "source": [
    "import pandas as pd\n",
    "import gzip"
   ],
   "metadata": {
    "collapsed": false,
    "pycharm": {
     "name": "#%%\n"
    }
   }
  },
  {
   "cell_type": "markdown",
   "source": [
    "Ładowanie danych:"
   ],
   "metadata": {
    "collapsed": false,
    "pycharm": {
     "name": "#%% md\n"
    }
   }
  },
  {
   "cell_type": "code",
   "execution_count": 43,
   "outputs": [],
   "source": [
    "def parse(path):\n",
    "  g = gzip.open(path, 'rb')\n",
    "  for l in g:\n",
    "    yield eval(l)\n",
    "\n",
    "def getDF(path):\n",
    "  i = 0\n",
    "  df = {}\n",
    "  for d in parse(path):\n",
    "    df[i] = d\n",
    "    i += 1\n",
    "  return pd.DataFrame.from_dict(df, orient='index')\n",
    "\n",
    "df = getDF('./data/reviews.json.gz')"
   ],
   "metadata": {
    "collapsed": false,
    "pycharm": {
     "name": "#%%\n"
    }
   }
  },
  {
   "cell_type": "markdown",
   "source": [
    "Analiza danych:\n"
   ],
   "metadata": {
    "collapsed": false,
    "pycharm": {
     "name": "#%% md\n"
    }
   }
  },
  {
   "cell_type": "code",
   "execution_count": 49,
   "outputs": [
    {
     "data": {
      "text/plain": "       reviewerID        asin                    reviewerName helpful  \\\n0    AIXZKN4ACSKI  1881509818                    David Briner  [0, 0]   \n1  A1L5P841VIO02V  1881509818                 Jason A. Kramer  [1, 1]   \n2   AB2W04NI4OEAD  1881509818                      J. Fernald  [2, 2]   \n3  A148SVSWKTJKU6  1881509818  Jusitn A. Watts \"Maverick9614\"  [0, 0]   \n4   AAAWJ6LW9WMOO  1881509818                    Material Man  [0, 0]   \n\n                                          reviewText  overall  \\\n0  This came in on time and I am veru happy with ...      5.0   \n1  I had a factory Glock tool that I was using fo...      5.0   \n2  If you don't have a 3/32 punch or would like t...      4.0   \n3  This works no better than any 3/32 punch you w...      4.0   \n4  I purchased this thinking maybe I need a speci...      4.0   \n\n                                   summary  unixReviewTime   reviewTime  \n0                           Woks very good      1390694400  01 26, 2014  \n1        Works as well as the factory tool      1328140800   02 2, 2012  \n2                It's a punch, that's all.      1330387200  02 28, 2012  \n3          It's a punch with a Glock logo.      1328400000   02 5, 2012  \n4  Ok,tool does what a regular punch does.      1366675200  04 23, 2013  ",
      "text/html": "<div>\n<style scoped>\n    .dataframe tbody tr th:only-of-type {\n        vertical-align: middle;\n    }\n\n    .dataframe tbody tr th {\n        vertical-align: top;\n    }\n\n    .dataframe thead th {\n        text-align: right;\n    }\n</style>\n<table border=\"1\" class=\"dataframe\">\n  <thead>\n    <tr style=\"text-align: right;\">\n      <th></th>\n      <th>reviewerID</th>\n      <th>asin</th>\n      <th>reviewerName</th>\n      <th>helpful</th>\n      <th>reviewText</th>\n      <th>overall</th>\n      <th>summary</th>\n      <th>unixReviewTime</th>\n      <th>reviewTime</th>\n    </tr>\n  </thead>\n  <tbody>\n    <tr>\n      <th>0</th>\n      <td>AIXZKN4ACSKI</td>\n      <td>1881509818</td>\n      <td>David Briner</td>\n      <td>[0, 0]</td>\n      <td>This came in on time and I am veru happy with ...</td>\n      <td>5.0</td>\n      <td>Woks very good</td>\n      <td>1390694400</td>\n      <td>01 26, 2014</td>\n    </tr>\n    <tr>\n      <th>1</th>\n      <td>A1L5P841VIO02V</td>\n      <td>1881509818</td>\n      <td>Jason A. Kramer</td>\n      <td>[1, 1]</td>\n      <td>I had a factory Glock tool that I was using fo...</td>\n      <td>5.0</td>\n      <td>Works as well as the factory tool</td>\n      <td>1328140800</td>\n      <td>02 2, 2012</td>\n    </tr>\n    <tr>\n      <th>2</th>\n      <td>AB2W04NI4OEAD</td>\n      <td>1881509818</td>\n      <td>J. Fernald</td>\n      <td>[2, 2]</td>\n      <td>If you don't have a 3/32 punch or would like t...</td>\n      <td>4.0</td>\n      <td>It's a punch, that's all.</td>\n      <td>1330387200</td>\n      <td>02 28, 2012</td>\n    </tr>\n    <tr>\n      <th>3</th>\n      <td>A148SVSWKTJKU6</td>\n      <td>1881509818</td>\n      <td>Jusitn A. Watts \"Maverick9614\"</td>\n      <td>[0, 0]</td>\n      <td>This works no better than any 3/32 punch you w...</td>\n      <td>4.0</td>\n      <td>It's a punch with a Glock logo.</td>\n      <td>1328400000</td>\n      <td>02 5, 2012</td>\n    </tr>\n    <tr>\n      <th>4</th>\n      <td>AAAWJ6LW9WMOO</td>\n      <td>1881509818</td>\n      <td>Material Man</td>\n      <td>[0, 0]</td>\n      <td>I purchased this thinking maybe I need a speci...</td>\n      <td>4.0</td>\n      <td>Ok,tool does what a regular punch does.</td>\n      <td>1366675200</td>\n      <td>04 23, 2013</td>\n    </tr>\n  </tbody>\n</table>\n</div>"
     },
     "execution_count": 49,
     "metadata": {},
     "output_type": "execute_result"
    }
   ],
   "source": [
    "df.head()"
   ],
   "metadata": {
    "collapsed": false,
    "pycharm": {
     "name": "#%%\n"
    }
   }
  },
  {
   "cell_type": "code",
   "execution_count": 50,
   "outputs": [
    {
     "data": {
      "text/plain": "(296337, 9)"
     },
     "execution_count": 50,
     "metadata": {},
     "output_type": "execute_result"
    }
   ],
   "source": [
    "df.shape\n"
   ],
   "metadata": {
    "collapsed": false,
    "pycharm": {
     "name": "#%%\n"
    }
   }
  },
  {
   "cell_type": "code",
   "execution_count": 51,
   "outputs": [
    {
     "name": "stdout",
     "output_type": "stream",
     "text": [
      "<class 'pandas.core.frame.DataFrame'>\n",
      "Int64Index: 296337 entries, 0 to 296336\n",
      "Data columns (total 9 columns):\n",
      " #   Column          Non-Null Count   Dtype  \n",
      "---  ------          --------------   -----  \n",
      " 0   reviewerID      296337 non-null  object \n",
      " 1   asin            296337 non-null  object \n",
      " 2   reviewerName    294935 non-null  object \n",
      " 3   helpful         296337 non-null  object \n",
      " 4   reviewText      296337 non-null  object \n",
      " 5   overall         296337 non-null  float64\n",
      " 6   summary         296337 non-null  object \n",
      " 7   unixReviewTime  296337 non-null  int64  \n",
      " 8   reviewTime      296337 non-null  object \n",
      "dtypes: float64(1), int64(1), object(7)\n",
      "memory usage: 30.7+ MB\n"
     ]
    }
   ],
   "source": [
    "df.info()\n"
   ],
   "metadata": {
    "collapsed": false,
    "pycharm": {
     "name": "#%%\n"
    }
   }
  },
  {
   "cell_type": "code",
   "execution_count": 52,
   "outputs": [
    {
     "ename": "NameError",
     "evalue": "name 'sns' is not defined",
     "output_type": "error",
     "traceback": [
      "\u001B[1;31m---------------------------------------------------------------------------\u001B[0m",
      "\u001B[1;31mNameError\u001B[0m                                 Traceback (most recent call last)",
      "\u001B[1;32m<ipython-input-52-580131344522>\u001B[0m in \u001B[0;36m<module>\u001B[1;34m\u001B[0m\n\u001B[1;32m----> 1\u001B[1;33m \u001B[0msns\u001B[0m\u001B[1;33m.\u001B[0m\u001B[0mcountplot\u001B[0m\u001B[1;33m(\u001B[0m\u001B[0mdf\u001B[0m\u001B[1;33m.\u001B[0m\u001B[0mscore\u001B[0m\u001B[1;33m)\u001B[0m\u001B[1;33m\u001B[0m\u001B[1;33m\u001B[0m\u001B[0m\n\u001B[0m\u001B[0;32m      2\u001B[0m \u001B[0mplt\u001B[0m\u001B[1;33m.\u001B[0m\u001B[0mxlabel\u001B[0m\u001B[1;33m(\u001B[0m\u001B[1;34m'review score'\u001B[0m\u001B[1;33m)\u001B[0m\u001B[1;33m;\u001B[0m\u001B[1;33m\u001B[0m\u001B[1;33m\u001B[0m\u001B[0m\n",
      "\u001B[1;31mNameError\u001B[0m: name 'sns' is not defined"
     ]
    }
   ],
   "source": [
    "sns.countplot(df.score)\n",
    "plt.xlabel('review score');"
   ],
   "metadata": {
    "collapsed": false,
    "pycharm": {
     "name": "#%%\n"
    }
   }
  }
 ],
 "metadata": {
  "kernelspec": {
   "display_name": "Python 3",
   "language": "python",
   "name": "python3"
  },
  "language_info": {
   "codemirror_mode": {
    "name": "ipython",
    "version": 2
   },
   "file_extension": ".py",
   "mimetype": "text/x-python",
   "name": "python",
   "nbconvert_exporter": "python",
   "pygments_lexer": "ipython2",
   "version": "2.7.6"
  }
 },
 "nbformat": 4,
 "nbformat_minor": 0
}