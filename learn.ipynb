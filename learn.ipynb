{
 "cells": [
  {
   "cell_type": "markdown",
   "source": [
    "# Analiza sentymenty z wykorzystaniem BERT i zbioru Amazon Reviews\n",
    "\n",
    "## Czynności przygotowawcze"
   ],
   "metadata": {
    "collapsed": false
   }
  },
  {
   "cell_type": "markdown",
   "source": [
    "Parametry:"
   ],
   "metadata": {
    "collapsed": false,
    "pycharm": {
     "name": "#%% md\n"
    }
   }
  },
  {
   "cell_type": "code",
   "execution_count": 6,
   "outputs": [],
   "source": [
    "from ReviewDataset import create_data_loader\n",
    "\n",
    "datasetUrl = 'http://snap.stanford.edu/data/amazon/productGraph/categoryFiles/reviews_Home_and_Kitchen_5.json.gz'\n",
    "dataPath = './data/reviews.json.gz'"
   ],
   "metadata": {
    "collapsed": false,
    "pycharm": {
     "name": "#%%\n"
    }
   }
  },
  {
   "cell_type": "markdown",
   "source": [
    "Dane karty graficznej:"
   ],
   "metadata": {
    "collapsed": false,
    "pycharm": {
     "name": "#%% md\n"
    }
   }
  },
  {
   "cell_type": "code",
   "execution_count": 7,
   "metadata": {
    "collapsed": true
   },
   "outputs": [
    {
     "name": "stderr",
     "output_type": "stream",
     "text": [
      "'nvidia-smi' is not recognized as an internal or external command,\n",
      "operable program or batch file.\n"
     ]
    }
   ],
   "source": [
    "!nvidia-smi"
   ]
  },
  {
   "cell_type": "markdown",
   "source": [
    "Importowane biblioteki:"
   ],
   "metadata": {
    "collapsed": false
   }
  },
  {
   "cell_type": "code",
   "execution_count": 9,
   "outputs": [],
   "source": [
    "import os\n",
    "import transformers\n",
    "import pandas as pd\n",
    "import gzip\n",
    "import wget\n",
    "from transformers import BertModel, BertTokenizer, AdamW, get_linear_schedule_with_warmup\n",
    "import torch\n",
    "import numpy as np\n",
    "import seaborn as sns\n",
    "from pylab import rcParams\n",
    "import matplotlib.pyplot as plt\n",
    "from matplotlib import rc\n",
    "from sklearn.model_selection import train_test_split\n",
    "from sklearn.metrics import confusion_matrix, classification_report\n",
    "from collections import defaultdict\n",
    "from textwrap import wrap\n",
    "from torch import nn, optim\n",
    "from torch.utils.data import Dataset, DataLoader\n",
    "from imblearn.under_sampling import RandomUnderSampler, NearMiss"
   ],
   "metadata": {
    "collapsed": false,
    "pycharm": {
     "name": "#%%\n"
    }
   }
  },
  {
   "cell_type": "markdown",
   "source": [
    "Pobieranie zbioru danych i rozpakowywanie:"
   ],
   "metadata": {
    "collapsed": false
   }
  },
  {
   "cell_type": "code",
   "execution_count": 10,
   "outputs": [
    {
     "name": "stdout",
     "output_type": "stream",
     "text": [
      "File not accessible, downloading\n"
     ]
    }
   ],
   "source": [
    "try:\n",
    "    os.stat('./data/')\n",
    "except:\n",
    "    os.mkdir('./data/')\n",
    "\n",
    "try:\n",
    "    f = open(dataPath)\n",
    "except IOError:\n",
    "    print(\"File not accessible, downloading\")\n",
    "    wget.download(datasetUrl, out=dataPath)\n",
    "finally:\n",
    "    if 'f' in locals():\n",
    "        f.close()"
   ],
   "metadata": {
    "collapsed": false,
    "pycharm": {
     "name": "#%%\n"
    }
   }
  },
  {
   "cell_type": "markdown",
   "source": [
    "Ładowanie danych:"
   ],
   "metadata": {
    "collapsed": false,
    "pycharm": {
     "name": "#%% md\n"
    }
   }
  },
  {
   "cell_type": "code",
   "execution_count": 11,
   "outputs": [],
   "source": [
    "def parse(path):\n",
    "  g = gzip.open(path, 'rb')\n",
    "  for l in g:\n",
    "    yield eval(l)\n",
    "\n",
    "def getDF(path):\n",
    "  i = 0\n",
    "  df = {}\n",
    "  for d in parse(path):\n",
    "    df[i] = d\n",
    "    i += 1\n",
    "  return pd.DataFrame.from_dict(df, orient='index')\n",
    "\n",
    "df = getDF(dataPath)"
   ],
   "metadata": {
    "collapsed": false,
    "pycharm": {
     "name": "#%%\n"
    }
   }
  },
  {
   "cell_type": "markdown",
   "source": [
    "## Analiza danych:"
   ],
   "metadata": {
    "collapsed": false,
    "pycharm": {
     "name": "#%% md\n"
    }
   }
  },
  {
   "cell_type": "code",
   "execution_count": 12,
   "outputs": [
    {
     "data": {
      "text/plain": "       reviewerID        asin            reviewerName   helpful  \\\n0   APYOBQE6M18AA  0615391206         Martin Schwartz    [0, 0]   \n1  A1JVQTAGHYOL7F  0615391206           Michelle Dinh    [0, 0]   \n2  A3UPYGJKZ0XTU4  0615391206            mirasreviews  [26, 27]   \n3  A2MHCTX43MIMDZ  0615391206  M. Johnson \"Tea Lover\"  [14, 18]   \n4   AHAI85T5C2DH3  0615391206                PugLover    [0, 0]   \n\n                                          reviewText  overall  \\\n0  My daughter wanted this book and the price on ...      5.0   \n1  I bought this zoku quick pop for my daughterr ...      5.0   \n2  There is no shortage of pop recipes available ...      4.0   \n3  This book is a must have if you get a Zoku (wh...      5.0   \n4  This cookbook is great.  I have really enjoyed...      4.0   \n\n                                             summary  unixReviewTime  \\\n0                                         Best Price      1382140800   \n1                                               zoku      1403049600   \n2  Excels at Sweet Dessert Pops, but Falls Short ...      1367712000   \n3                                    Creative Combos      1312416000   \n4            A must own if you own the Zoku maker...      1402099200   \n\n    reviewTime  \n0  10 19, 2013  \n1  06 18, 2014  \n2   05 5, 2013  \n3   08 4, 2011  \n4   06 7, 2014  ",
      "text/html": "<div>\n<style scoped>\n    .dataframe tbody tr th:only-of-type {\n        vertical-align: middle;\n    }\n\n    .dataframe tbody tr th {\n        vertical-align: top;\n    }\n\n    .dataframe thead th {\n        text-align: right;\n    }\n</style>\n<table border=\"1\" class=\"dataframe\">\n  <thead>\n    <tr style=\"text-align: right;\">\n      <th></th>\n      <th>reviewerID</th>\n      <th>asin</th>\n      <th>reviewerName</th>\n      <th>helpful</th>\n      <th>reviewText</th>\n      <th>overall</th>\n      <th>summary</th>\n      <th>unixReviewTime</th>\n      <th>reviewTime</th>\n    </tr>\n  </thead>\n  <tbody>\n    <tr>\n      <th>0</th>\n      <td>APYOBQE6M18AA</td>\n      <td>0615391206</td>\n      <td>Martin Schwartz</td>\n      <td>[0, 0]</td>\n      <td>My daughter wanted this book and the price on ...</td>\n      <td>5.0</td>\n      <td>Best Price</td>\n      <td>1382140800</td>\n      <td>10 19, 2013</td>\n    </tr>\n    <tr>\n      <th>1</th>\n      <td>A1JVQTAGHYOL7F</td>\n      <td>0615391206</td>\n      <td>Michelle Dinh</td>\n      <td>[0, 0]</td>\n      <td>I bought this zoku quick pop for my daughterr ...</td>\n      <td>5.0</td>\n      <td>zoku</td>\n      <td>1403049600</td>\n      <td>06 18, 2014</td>\n    </tr>\n    <tr>\n      <th>2</th>\n      <td>A3UPYGJKZ0XTU4</td>\n      <td>0615391206</td>\n      <td>mirasreviews</td>\n      <td>[26, 27]</td>\n      <td>There is no shortage of pop recipes available ...</td>\n      <td>4.0</td>\n      <td>Excels at Sweet Dessert Pops, but Falls Short ...</td>\n      <td>1367712000</td>\n      <td>05 5, 2013</td>\n    </tr>\n    <tr>\n      <th>3</th>\n      <td>A2MHCTX43MIMDZ</td>\n      <td>0615391206</td>\n      <td>M. Johnson \"Tea Lover\"</td>\n      <td>[14, 18]</td>\n      <td>This book is a must have if you get a Zoku (wh...</td>\n      <td>5.0</td>\n      <td>Creative Combos</td>\n      <td>1312416000</td>\n      <td>08 4, 2011</td>\n    </tr>\n    <tr>\n      <th>4</th>\n      <td>AHAI85T5C2DH3</td>\n      <td>0615391206</td>\n      <td>PugLover</td>\n      <td>[0, 0]</td>\n      <td>This cookbook is great.  I have really enjoyed...</td>\n      <td>4.0</td>\n      <td>A must own if you own the Zoku maker...</td>\n      <td>1402099200</td>\n      <td>06 7, 2014</td>\n    </tr>\n  </tbody>\n</table>\n</div>"
     },
     "execution_count": 12,
     "metadata": {},
     "output_type": "execute_result"
    }
   ],
   "source": [
    "df.head()"
   ],
   "metadata": {
    "collapsed": false,
    "pycharm": {
     "name": "#%%\n"
    }
   }
  },
  {
   "cell_type": "code",
   "execution_count": 13,
   "outputs": [
    {
     "data": {
      "text/plain": "(551682, 9)"
     },
     "execution_count": 13,
     "metadata": {},
     "output_type": "execute_result"
    }
   ],
   "source": [
    "df.shape"
   ],
   "metadata": {
    "collapsed": false,
    "pycharm": {
     "name": "#%%\n"
    }
   }
  },
  {
   "cell_type": "code",
   "execution_count": 14,
   "outputs": [
    {
     "name": "stdout",
     "output_type": "stream",
     "text": [
      "<class 'pandas.core.frame.DataFrame'>\n",
      "Int64Index: 551682 entries, 0 to 551681\n",
      "Data columns (total 9 columns):\n",
      " #   Column          Non-Null Count   Dtype  \n",
      "---  ------          --------------   -----  \n",
      " 0   reviewerID      551682 non-null  object \n",
      " 1   asin            551682 non-null  object \n",
      " 2   reviewerName    546729 non-null  object \n",
      " 3   helpful         551682 non-null  object \n",
      " 4   reviewText      551682 non-null  object \n",
      " 5   overall         551682 non-null  float64\n",
      " 6   summary         551682 non-null  object \n",
      " 7   unixReviewTime  551682 non-null  int64  \n",
      " 8   reviewTime      551682 non-null  object \n",
      "dtypes: float64(1), int64(1), object(7)\n",
      "memory usage: 42.1+ MB\n"
     ]
    }
   ],
   "source": [
    "df.info()"
   ],
   "metadata": {
    "collapsed": false,
    "pycharm": {
     "name": "#%%\n"
    }
   }
  },
  {
   "cell_type": "markdown",
   "source": [
    "Histogram ilości słów w opinii:"
   ],
   "metadata": {
    "collapsed": false,
    "pycharm": {
     "name": "#%% md\n"
    }
   }
  },
  {
   "cell_type": "code",
   "execution_count": null,
   "outputs": [],
   "source": [
    "sns.countplot(x='overall', data=df)\n",
    "plt.xlabel('review score')"
   ],
   "metadata": {
    "collapsed": false,
    "pycharm": {
     "name": "#%%\n"
    }
   }
  },
  {
   "cell_type": "code",
   "execution_count": 35,
   "outputs": [
    {
     "data": {
      "text/plain": "<seaborn.axisgrid.FacetGrid at 0x1f65da49580>"
     },
     "execution_count": 35,
     "metadata": {},
     "output_type": "execute_result"
    },
    {
     "data": {
      "text/plain": "<Figure size 360x360 with 1 Axes>",
      "image/png": "[encoded data removed]"
     },
     "metadata": {
      "needs_background": "light"
     },
     "output_type": "display_data"
    }
   ],
   "source": [
    "numbers_of_words = df['reviewText'].str.split().str.len()\n",
    "plot = sns.displot(numbers_of_words, )\n",
    "plot.set_axis_labels('Length of review in words', 'Count')"
   ],
   "metadata": {
    "collapsed": false,
    "pycharm": {
     "name": "#%%\n"
    }
   }
  },
  {
   "cell_type": "markdown",
   "source": [
    "Jak widać zbiór jest mocno niezbalansowany, więc istnieje konieczność jego zbalansowania. Ze względu na tekstowy charakter zbioru zastosowanie generującego upsamplingu odpada, iilość danych w zbiorze jest duża, więc undersampling będzie odpowiednim rozwiązaniem.\n",
    "\n",
    "Przeważająca większość opinii jest krótsza niż 512 słów."
   ],
   "metadata": {
    "collapsed": false
   }
  },
  {
   "cell_type": "code",
   "execution_count": 16,
   "outputs": [
    {
     "data": {
      "text/plain": "Text(0.5, 0, 'review score')"
     },
     "execution_count": 16,
     "metadata": {},
     "output_type": "execute_result"
    },
    {
     "data": {
      "text/plain": "<Figure size 432x288 with 1 Axes>",
      "image/png": "[encoded data removed]"
     },
     "metadata": {
      "needs_background": "light"
     },
     "output_type": "display_data"
    }
   ],
   "source": [
    "# todo przerobic to na zgodne z opisem na dole\n",
    "# Separating the independent variables from dependent variables\n",
    "X = df[['reviewText']]\n",
    "y = df[['overall']]\n",
    "\n",
    "\n",
    "\n",
    "\n",
    "#Split train-test data\n",
    "X_train, X_test, y_train, y_test = train_test_split(X,y, train_size=0.25)\n",
    "\n",
    "undersample = RandomUnderSampler(sampling_strategy='not minority')\n",
    "X_train_under, y_train_under = undersample.fit_resample(X_train, y_train)\n",
    "\n",
    "sns.countplot(x='overall',data=y_train_under)\n",
    "plt.xlabel('review score')\n",
    "\n"
   ],
   "metadata": {
    "collapsed": false,
    "pycharm": {
     "name": "#%%\n"
    }
   }
  },
  {
   "cell_type": "markdown",
   "source": [
    "Zbiór zostanie podzielony na zbiór testowy i trenujący z zachowaniem propocji klas, hiperparametry modelu będą wyznaczane w procesie strojenia na zbiorze treningowym z wykorzystaniem k-krotnej walidacji krzyżowej. Podczas jednej iteracji k-krotnej walidacji krzyżowej zbiór trenujący będzie poddawany downsamplingowi w celu zbalansowania klas, a zbiór testujący pozostanie bez zmian.\n",
    "\n",
    "Ogólnie muszę zrobić takie pipeliny jak na zumach."
   ],
   "metadata": {
    "collapsed": false,
    "pycharm": {
     "name": "#%% md\n"
    }
   }
  },
  {
   "cell_type": "code",
   "execution_count": null,
   "outputs": [],
   "source": [
    "PRE_TRAINED_MODEL_NAME = 'bert-base-cased'\n",
    "tokenizer = BertTokenizer.from_pretrained(PRE_TRAINED_MODEL_NAME)"
   ],
   "metadata": {
    "collapsed": false,
    "pycharm": {
     "name": "#%%\n"
    }
   }
  },
  {
   "cell_type": "markdown",
   "source": [
    "Jak wynika z analizy, większość słów mieści się w zakresie 0-512 słów, więc ustalenie limitu tokenów BERT na górny próg - 512 będzie wystarczające. Dłuższe opinie zostaną skrócone do długości 512 tokenów."
   ],
   "metadata": {
    "collapsed": false
   }
  },
  {
   "cell_type": "code",
   "execution_count": null,
   "outputs": [],
   "source": [
    "TOKEN_MAX_LEN = 512\n",
    "\n",
    "create_data_loader()\n"
   ],
   "metadata": {
    "collapsed": false,
    "pycharm": {
     "name": "#%%\n"
    }
   }
  }
 ],
 "metadata": {
  "kernelspec": {
   "display_name": "Python 3",
   "language": "python",
   "name": "python3"
  },
  "language_info": {
   "codemirror_mode": {
    "name": "ipython",
    "version": 2
   },
   "file_extension": ".py",
   "mimetype": "text/x-python",
   "name": "python",
   "nbconvert_exporter": "python",
   "pygments_lexer": "ipython2",
   "version": "2.7.6"
  }
 },
 "nbformat": 4,
 "nbformat_minor": 0
}